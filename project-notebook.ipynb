{
 "cells": [
  {
   "cell_type": "markdown",
   "metadata": {},
   "source": [
    "## COMP 4107 Fall 2017\n",
    "\n",
    "## Basim Ramadhan 100 901 646\n",
    "\n",
    "## Christian Abbott 100 863 049\n",
    "\n",
    "***"
   ]
  },
  {
   "cell_type": "markdown",
   "metadata": {},
   "source": [
    "# Running Our Code\n",
    "\n",
    "We have provided an easy-to-use Makefile to help you run our program:"
   ]
  },
  {
   "cell_type": "code",
   "execution_count": null,
   "metadata": {},
   "outputs": [],
   "source": [
    "make prepare-venv\n",
    "env/bin/python TODO.py"
   ]
  },
  {
   "cell_type": "markdown",
   "metadata": {},
   "source": [
    "Otherwise, if you have tensorflow, TODO installed already:"
   ]
  },
  {
   "cell_type": "code",
   "execution_count": null,
   "metadata": {},
   "outputs": [],
   "source": [
    "python3 TODO.py"
   ]
  },
  {
   "cell_type": "markdown",
   "metadata": {},
   "source": [
    "Running the program will do the following:\n",
    "\n",
    "1. TODO\n",
    "2. TODO\n",
    "3. TODO"
   ]
  },
  {
   "cell_type": "markdown",
   "metadata": {},
   "source": [
    "# The Problem Being Solved\n",
    "\n",
    "TODO"
   ]
  },
  {
   "cell_type": "markdown",
   "metadata": {},
   "source": [
    "# Experimental Methodology\n",
    "\n",
    "TODO"
   ]
  },
  {
   "cell_type": "markdown",
   "metadata": {},
   "source": [
    "## Tiny.py\n",
    "\n",
    "TODO state architecture\n",
    "\n",
    "TODO show accuracy"
   ]
  },
  {
   "cell_type": "markdown",
   "metadata": {},
   "source": [
    "## Simple Net\n",
    "\n",
    "TODO state architecture\n",
    "\n",
    "TODO show accuracy"
   ]
  },
  {
   "cell_type": "markdown",
   "metadata": {},
   "source": [
    "## VGG 16\n",
    "\n",
    "TODO state architecture\n",
    "\n",
    "TODO show accuracy"
   ]
  },
  {
   "cell_type": "markdown",
   "metadata": {},
   "source": [
    "## Alex Net\n",
    "\n",
    "TODO state architecture\n",
    "\n",
    "TODO show accuracy\n",
    "\n",
    "### Alex Net Small\n",
    "### Alex Net Extra Large"
   ]
  },
  {
   "cell_type": "markdown",
   "metadata": {},
   "source": [
    "# Neural Network Architecture\n",
    "\n",
    "Our best performance:\n",
    "\n",
    "## Architecture\n",
    "\n",
    "## Hyper-parameters\n",
    "\n",
    "* **Learning rate:** TODO"
   ]
  },
  {
   "cell_type": "markdown",
   "metadata": {},
   "source": [
    "# Additional Figures"
   ]
  },
  {
   "cell_type": "markdown",
   "metadata": {},
   "source": [
    "## Classification Accuracy\n",
    "\n",
    "TODO Insert chart here."
   ]
  },
  {
   "cell_type": "markdown",
   "metadata": {},
   "source": [
    "## Computational Graph\n",
    "\n",
    "Please see the included `graph.pdf` file. TODO\n",
    "\n",
    "TODO Insert graph here."
   ]
  },
  {
   "cell_type": "markdown",
   "metadata": {},
   "source": [
    "# References\n",
    "\n",
    "* http://scott.fortmann-roe.com/docs/BiasVariance.html\n",
    "* https://arxiv.org/abs/1608.06037 (original paper for SimpleNet)\n",
    "* https://arxiv.org/abs/1409.1556 (original paper for VGG 16)\n",
    "* https://papers.nips.cc/paper/4824-imagenet-classification-with-deep-convolutional-neural-networks.pdf (original paper for AlexNet)\n",
    "* https://arxiv.org/abs/1412.6071 (original paper for fractional pooling)\n",
    "* TODO\n",
    "* TODO\n",
    "* TODO"
   ]
  },
  {
   "cell_type": "code",
   "execution_count": null,
   "metadata": {},
   "outputs": [],
   "source": []
  }
 ],
 "metadata": {
  "kernelspec": {
   "display_name": "Python 3",
   "language": "python",
   "name": "python3"
  },
  "language_info": {
   "codemirror_mode": {
    "name": "ipython",
    "version": 3
   },
   "file_extension": ".py",
   "mimetype": "text/x-python",
   "name": "python",
   "nbconvert_exporter": "python",
   "pygments_lexer": "ipython3",
   "version": "3.5.2"
  }
 },
 "nbformat": 4,
 "nbformat_minor": 2
}
